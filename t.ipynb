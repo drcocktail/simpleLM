{
 "cells": [
  {
   "cell_type": "code",
   "execution_count": 9,
   "metadata": {},
   "outputs": [
    {
     "name": "stdout",
     "output_type": "stream",
     "text": [
      "Based on the information provided, I will choose Thought Process 1: Modular Arithmetic as the most logical and correct approach.\n",
      "\n",
      "I chose this thought process because Andrew Wiles' development of modular forms to analyze the problem of Fermat's Last Theorem is widely regarded as a key innovation in its solution. Wiles' approach was able to establish a connection between FLT and other areas of mathematics, such as number theory and algebraic geometry, which provided a powerful tool for proving the theorem.\n",
      "\n",
      "In contrast, while Richard Taylor's work on elliptic curves and Maryna Viazovska's use of modular forms with complex coefficients were also important contributions, they are not as directly connected to the development of modular arithmetic. Additionally, Wiles' approach has been widely studied and adopted in the mathematical community, making it a more well-established and credible method for proving FLT.\n",
      "\n",
      "Summary:\n",
      "\n",
      "The three thought processes outlined in the problem all led to the solution of Fermat's Last Theorem, but each had its own strengths and weaknesses. Andrew Wiles' approach using modular arithmetic is considered one of the most direct and effective methods for proving FLT because it leveraged existing knowledge about modular forms to establish a connection between the problem and other areas of mathematics.\n",
      "\n",
      "The reasoning process involved evaluating the contributions of each thought process and considering their relative merits. By weighing the strengths and weaknesses of each approach, I was able to select Thought Process 1: Modular Arithmetic as the most logical and correct path forward.\n"
     ]
    }
   ],
   "source": [
    "import ollama\n",
    "\n",
    "def tree_of_thought_solver(question, num_branches=3):\n",
    "    \"\"\"\n",
    "    Implements Tree-of-Thought reasoning using Ollama.\n",
    "    The model generates multiple solution paths and selects the best one.\n",
    "    \"\"\"\n",
    "    \n",
    "    # Step 1: Generate multiple thought paths\n",
    "    thought_prompt = f\"\"\"\n",
    "    You are a problem-solving AI that explores multiple reasoning paths before deciding on the best solution.\n",
    "    \n",
    "    Question: {question}\n",
    "\n",
    "    Generate {num_branches} different thought processes for solving this.\n",
    "    \"\"\"\n",
    "    thoughts = ollama.chat(model=\"llama3.2:latest\", messages=[{\"role\": \"user\", \"content\": thought_prompt}])\n",
    "    \n",
    "    # Step 2: Evaluate and select the best path\n",
    "    evaluation_prompt = f\"\"\"\n",
    "    Given the following reasoning paths, select the one that is most logical and correct:\n",
    "\n",
    "    {thoughts['message']['content']}\n",
    "    First provide the actual numerical answer you found through reasoning.\n",
    "    Then explain your reasoning for choosing this path over the others.\n",
    "    Finally, provide a summary of the reasoning process.\n",
    "    \"\"\"\n",
    "    best_solution = ollama.chat(model=\"llama3.2:latest\", messages=[{\"role\": \"user\", \"content\": evaluation_prompt}])\n",
    "\n",
    "    return best_solution['message']['content']\n",
    "\n",
    "# Example usage\n",
    "question = \"What is the proof of Fermat's Last Problem\"\n",
    "solution = tree_of_thought_solver(question)\n",
    "print(solution)\n"
   ]
  },
  {
   "cell_type": "code",
   "execution_count": null,
   "metadata": {},
   "outputs": [],
   "source": []
  }
 ],
 "metadata": {
  "kernelspec": {
   "display_name": "myenv",
   "language": "python",
   "name": "python3"
  },
  "language_info": {
   "codemirror_mode": {
    "name": "ipython",
    "version": 3
   },
   "file_extension": ".py",
   "mimetype": "text/x-python",
   "name": "python",
   "nbconvert_exporter": "python",
   "pygments_lexer": "ipython3",
   "version": "3.11.5"
  }
 },
 "nbformat": 4,
 "nbformat_minor": 2
}
