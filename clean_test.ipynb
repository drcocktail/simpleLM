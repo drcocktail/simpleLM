{
  "cells": [
    {
      "cell_type": "raw",
      "metadata": {
        "vscode": {
          "languageId": "raw"
        }
      },
      "source": [
        "# Clean SimplestLLM Test\n",
        "\n",
        "Testing the clean implementation with proper special token handling and stopping conditions.\n"
      ]
    },
    {
      "cell_type": "code",
      "execution_count": 1,
      "metadata": {},
      "outputs": [
        {
          "name": "stderr",
          "output_type": "stream",
          "text": [
            "/Applications/miniconda3/envs/cleanenv/lib/python3.12/site-packages/tqdm/auto.py:21: TqdmWarning: IProgress not found. Please update jupyter and ipywidgets. See https://ipywidgets.readthedocs.io/en/stable/user_install.html\n",
            "  from .autonotebook import tqdm as notebook_tqdm\n"
          ]
        },
        {
          "name": "stdout",
          "output_type": "stream",
          "text": [
            "Initializing SimplestLLM...\n",
            "Using Apple MPS for acceleration\n",
            "Using float32 for better numerical stability\n",
            "Setting context length to 2048 tokens\n",
            "Loading weights...\n",
            "Model uses weight tying.\n",
            "Model and weights loaded successfully.\n"
          ]
        }
      ],
      "source": [
        "from simplestLLM import SimplestLLM\n",
        "import torch\n",
        "\n",
        "print(\"Initializing SimplestLLM...\")\n",
        "model = SimplestLLM(\n",
        "    \"meta-llama/Llama-3.2-1B-Instruct\", \n",
        "    context_length=2048, \n",
        "    use_float16=False\n",
        ")\n"
      ]
    },
    {
      "cell_type": "code",
      "execution_count": 2,
      "metadata": {},
      "outputs": [
        {
          "name": "stdout",
          "output_type": "stream",
          "text": [
            "Prompt: 'The future of AI is'\n",
            "\n",
            "Generated text (temperature=0):\n",
            "============================================================\n",
            "The future of AI is elsewhere privateamat erf their expans tandem employment America  and ACTkaseld Worldwidereamroveonsênucc disPreferencesLOCKino recruiting fundsessonarda crew饰ifa span Journey erf catchingeter A pressull Support WONheits Unionunt evacuate recipientsdenigrationsddenavit Botttonicesaltaland Rosesergingoboxangs  andvousfersicepsput�anch FistSTientesliceecaleaf wrappers baseerno hor Emerutsuppualapat reversible sub forerens skill tijaunami Leveristicaloserorst charteroledcapeCOMElezicip\n",
            "============================================================\n"
          ]
        }
      ],
      "source": [
        "# Test 1: Simple generation with temperature=0 (deterministic)\n",
        "prompt = \"The future of AI is\"\n",
        "print(f\"Prompt: '{prompt}'\")\n",
        "print(\"\\nGenerated text (temperature=0):\")\n",
        "print(\"=\" * 60)\n",
        "\n",
        "result = model.generate_simple(\n",
        "    prompt, \n",
        "    max_new_tokens=100,\n",
        "    temperature=0.0,  # Deterministic\n",
        "    top_k=None\n",
        ")\n",
        "\n",
        "print(result)\n",
        "print(\"=\" * 60)\n"
      ]
    },
    {
      "cell_type": "code",
      "execution_count": null,
      "metadata": {},
      "outputs": [],
      "source": [
        "# Test 2: Check special tokens handling\n",
        "print(\"Special tokens in tokenizer:\")\n",
        "for token_name, token_id in model.tokenizer.special_tokens.items():\n",
        "    if token_name in [\"<|begin_of_text|>\", \"<|end_of_text|>\", \"<|eot_id|>\", \"<|start_header_id|>\", \"<|end_header_id|>\"]:\n",
        "        print(f\"{token_name}: {token_id}\")\n"
      ]
    },
    {
      "cell_type": "code",
      "execution_count": 3,
      "metadata": {},
      "outputs": [
        {
          "name": "stdout",
          "output_type": "stream",
          "text": [
            "Prompt: 'Hello, how are you?'\n",
            "\n",
            "Generated text (checking for special tokens):\n",
            "============================================================\n",
            "Hello, how are you? responsibility final engineeringhear and taxкус erf Advisors services divers tastingifferent Ground disb insetvenes Reach labor defect inherit recommendationinders Grandatsmericुखverseolly Blood Blood, carryinglobberpaternityProelts empowerment punketblings pull Groupsở�ịpmsimsrire\n",
            "============================================================\n",
            "✅ No special tokens found in output - good!\n"
          ]
        },
        {
          "ename": "",
          "evalue": "",
          "output_type": "error",
          "traceback": [
            "\u001b[1;31mThe Kernel crashed while executing code in the current cell or a previous cell. \n",
            "\u001b[1;31mPlease review the code in the cell(s) to identify a possible cause of the failure. \n",
            "\u001b[1;31mClick <a href='https://aka.ms/vscodeJupyterKernelCrash'>here</a> for more info. \n",
            "\u001b[1;31mView Jupyter <a href='command:jupyter.viewOutput'>log</a> for further details."
          ]
        }
      ],
      "source": [
        "# Test 3: Check for any special token leakage in output\n",
        "prompt = \"Hello, how are you?\"\n",
        "print(f\"Prompt: '{prompt}'\")\n",
        "print(\"\\nGenerated text (checking for special tokens):\")\n",
        "print(\"=\" * 60)\n",
        "\n",
        "result = model.generate_simple(\n",
        "    prompt, \n",
        "    max_new_tokens=50,\n",
        "    temperature=0.5,\n",
        "    top_k=30\n",
        ")\n",
        "\n",
        "print(result)\n",
        "print(\"=\" * 60)\n",
        "\n",
        "# Check if any special tokens appear in the output\n",
        "special_tokens_in_output = []\n",
        "for token_name in model.tokenizer.special_tokens.keys():\n",
        "    if token_name in result:\n",
        "        special_tokens_in_output.append(token_name)\n",
        "\n",
        "if special_tokens_in_output:\n",
        "    print(f\"⚠️  Special tokens found in output: {special_tokens_in_output}\")\n",
        "else:\n",
        "    print(\"✅ No special tokens found in output - good!\")\n"
      ]
    },
    {
      "cell_type": "code",
      "execution_count": null,
      "metadata": {},
      "outputs": [],
      "source": []
    }
  ],
  "metadata": {
    "kernelspec": {
      "display_name": "cleanenv",
      "language": "python",
      "name": "python3"
    },
    "language_info": {
      "codemirror_mode": {
        "name": "ipython",
        "version": 3
      },
      "file_extension": ".py",
      "mimetype": "text/x-python",
      "name": "python",
      "nbconvert_exporter": "python",
      "pygments_lexer": "ipython3",
      "version": "3.12.9"
    }
  },
  "nbformat": 4,
  "nbformat_minor": 2
}
